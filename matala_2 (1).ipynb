{
 "cells": [
  {
   "cell_type": "markdown",
   "id": "6c914849-7ee6-4a06-ade2-17d3ca452d54",
   "metadata": {},
   "source": [
    "**מטלת סיכום חלק ב**"
   ]
  },
  {
   "cell_type": "markdown",
   "id": "fcc7a6d9-3d9d-4f98-86d7-815e1bbf30d1",
   "metadata": {},
   "source": [
    "מגישה: אלישבע אוייר 332515956"
   ]
  },
  {
   "cell_type": "markdown",
   "id": "cd983cb9-f475-4776-af38-eb12011f5d1f",
   "metadata": {},
   "source": [
    "קישור לגיטהאב- https://github.com/ElishOyer/CarPricePrediction "
   ]
  },
  {
   "cell_type": "markdown",
   "id": "29f8403b-33ae-4b58-8fa2-d76dae1743a1",
   "metadata": {},
   "source": [
    "-בשלב הראשון של המטלה, אבחר כמה עמודות שנחשבות רלוונטיות לחיזוי המחיר על בסיס היגיון ושיקולים עסקיים\n"
   ]
  },
  {
   "cell_type": "markdown",
   "id": "7b31f974-98ee-43c1-bd48-4f0a2d14d0e3",
   "metadata": {},
   "source": [
    ".לאחר מכן אבצע ניקוי והכנה של הנתונים על ידי מילוי ערכים חסרים בעמודות אלו, תוך שימוש בשיטת ההשלמה המתאימה ביותר עבור כל עמודה"
   ]
  },
  {
   "cell_type": "code",
   "execution_count": 17,
   "id": "b9967bf3-2ff4-483c-95f8-0868700e4b58",
   "metadata": {},
   "outputs": [],
   "source": [
    "from datetime import datetime\n",
    "import pandas as pd\n",
    "import numpy as np\n",
    "import ppscore as pps\n",
    "import re\n",
    "from sklearn.linear_model import ElasticNet\n",
    "from sklearn.model_selection import train_test_split, GridSearchCV, cross_val_score\n",
    "from sklearn.metrics import mean_squared_error, r2_score"
   ]
  },
  {
   "cell_type": "code",
   "execution_count": 18,
   "id": "c9abc29c-665d-455c-abf4-7ed495d3f18c",
   "metadata": {},
   "outputs": [],
   "source": [
    "file_path = r'C:\\Users\\Elisheva\\Downloads\\dataset.csv'  \n",
    "data = pd.read_csv(file_path)"
   ]
  },
  {
   "cell_type": "markdown",
   "id": "1ede1268-fe8d-480a-a8b4-a7fef6a2c319",
   "metadata": {},
   "source": [
    "-בדיקה ראשונית על ידי בדיקת הקורלציה של כל פיצ'ר עם המחיר, במטרה לקבל תמונה ראשונית של השפעת הפיצ'רים על המחיר"
   ]
  },
  {
   "cell_type": "markdown",
   "id": "2009325c-e099-4750-a9b2-c14ab3bfae60",
   "metadata": {},
   "source": [
    ".יכול לגלות קשרים שאינם לינאריים, שאותם מתאם פיירסון לא יכול לגלות ולכן בחרתי לבדוק קשרים באמצעותו PPS"
   ]
  },
  {
   "cell_type": "code",
   "execution_count": 19,
   "id": "d59cece3-49eb-44fe-b196-e3c446de3b55",
   "metadata": {},
   "outputs": [
    {
     "name": "stdout",
     "output_type": "stream",
     "text": [
      "קורלציות לינאריות עבור המאפיינים המספריים:\n",
      "Year: 0.7109\n",
      "Supply_score: 0.3228\n",
      "Hand: 0.2481\n",
      "Pic_num: 0.1305\n",
      "\n",
      "PPS עבור המאפיינים הקטגוריאליים:\n",
      "Description: 0.4839\n",
      "Test: 0.4764\n",
      "Color: 0.4051\n",
      "City: 0.3670\n",
      "Area: 0.3340\n",
      "Prev_ownership: 0.1886\n",
      "manufactor: 0.0000\n",
      "model: 0.0000\n",
      "Gear: 0.0000\n",
      "Engine_type: 0.0000\n",
      "Curr_ownership: 0.0000\n"
     ]
    }
   ],
   "source": [
    "data_cleaned = data.dropna()\n",
    "\n",
    "# הגדרת המאפיינים הרלוונטיים\n",
    "numerical_features = ['Year', 'Hand', 'Km', 'capacity_Engine', 'Supply_score', 'Pic_num']\n",
    "categorical_features = ['manufactor', 'model', 'Gear', 'Engine_type', 'Area', 'City', 'Description', 'Color', 'Test', 'Prev_ownership', 'Curr_ownership']\n",
    "\n",
    "# חישוב הקורלציה הלינארית עבור המאפיינים המספריים\n",
    "correlation_matrix = data_cleaned[numerical_features + ['Price']].corr()\n",
    "price_correlation = correlation_matrix['Price'].sort_values(ascending=False)\n",
    "numerical_correlation = price_correlation.abs().sort_values(ascending=False).drop('Price')\n",
    "\n",
    "# הדפסת הקורלציה הלינארית\n",
    "print(\"קורלציות לינאריות עבור המאפיינים המספריים:\")\n",
    "for feature, correlation in numerical_correlation.items():\n",
    "    print(f\"{feature}: {correlation:.4f}\")\n",
    "\n",
    "# חישוב ה-PPS עבור המאפיינים הקטגוריאליים\n",
    "pps_scores = []\n",
    "for feature in categorical_features:\n",
    "    pps_score = pps.score(data_cleaned, x=feature, y='Price')['ppscore']\n",
    "    pps_scores.append({'feature': feature, 'pps': pps_score})\n",
    "\n",
    "# המרת התוצאות ל-DataFrame\n",
    "pps_df = pd.DataFrame(pps_scores)\n",
    "pps_df = pps_df.sort_values(by='pps', ascending=False)\n",
    "\n",
    "# הדפסת ה-PPS\n",
    "print(\"\\nPPS עבור המאפיינים הקטגוריאליים:\")\n",
    "for index, row in pps_df.iterrows():\n",
    "    print(f\"{row['feature']}: {row['pps']:.4f}\")"
   ]
  },
  {
   "cell_type": "markdown",
   "id": "b55606f7-4a93-4a4a-9516-a0c20e1921ad",
   "metadata": {},
   "source": [
    ".שמתי לב שמאפיינים שעל פי ההגיון שלי היו צריכים להיות עם קורלציה גבוהה כמו מודל, יצרן וכו (מאפיינים מרכזיים של רכב) קיבלו מתאם אפסי לכן החלטתי לבדוק מחדש אחרת"
   ]
  },
  {
   "cell_type": "markdown",
   "id": "0af38b37-86b4-403d-8afe-a2dbf6e1ef20",
   "metadata": {},
   "source": [
    "-החלטתי לבדוק עם קורלציה פשוטה גם עבור מאפיינים קטגוריאליים שעלולים להיות בעלי קשרים לא לינאריים אך כך אוכל לקבל נקודת מבט נוספת על הדאטה"
   ]
  },
  {
   "cell_type": "code",
   "execution_count": 20,
   "id": "1c37fd1c-81e1-45d3-945b-15adde7c6a49",
   "metadata": {},
   "outputs": [
    {
     "name": "stdout",
     "output_type": "stream",
     "text": [
      "Price: 1.0000\n",
      "Year: 0.7109\n",
      "Supply: -0.3228\n",
      "Hand: -0.2481\n",
      "Engine: -0.1825\n",
      "Pic: -0.1305\n",
      "Gear: -0.0671\n",
      "manufactor: 0.0649\n",
      "model: 0.0338\n",
      "Description: 0.0311\n",
      "Area: -0.0226\n",
      "Test: -0.0128\n",
      "City: 0.0092\n",
      "Color: -0.0015\n"
     ]
    }
   ],
   "source": [
    "data_cleaned = data.dropna()\n",
    "\n",
    "categorical_features = ['manufactor', 'model', 'Gear', 'Engine_type', 'Area', 'City', 'Description', 'Color', 'Test']\n",
    "data_cleaned = pd.get_dummies(data_cleaned, columns=categorical_features, drop_first=True)\n",
    "\n",
    "correlation_matrix = data_cleaned.corr()\n",
    "price_correlation = correlation_matrix['Price'].sort_values(ascending=False)\n",
    "feature_correlation = {}\n",
    "\n",
    "for feature, correlation in price_correlation.items():\n",
    "    original_feature = feature.split('_')[0] if '_' in feature else feature\n",
    "    if original_feature not in feature_correlation:\n",
    "        feature_correlation[original_feature] = []\n",
    "    feature_correlation[original_feature].append(correlation)\n",
    "\n",
    "average_correlations = {feature: sum(correlations) / len(correlations) for feature, correlations in feature_correlation.items()}\n",
    "sorted_average_correlations = sorted(average_correlations.items(), key=lambda x: abs(x[1]), reverse=True)\n",
    "\n",
    "for feature, avg_correlation in sorted_average_correlations:\n",
    "    print(f\"{feature}: {avg_correlation:.4f}\")"
   ]
  },
  {
   "cell_type": "markdown",
   "id": "2fc2c628-b97d-4f7f-8a60-97747e23b8e5",
   "metadata": {},
   "source": [
    "-מתוך שתי השיטות אבחר בעמודות שאמשיך לחקור"
   ]
  },
  {
   "cell_type": "markdown",
   "id": "eb711dc1-5101-4f0b-b27e-288c661f0363",
   "metadata": {},
   "source": [
    ".עמודות התיאור, תמונות הן עמודות שהשלמת ערכיהן החסרים לא תהיה מדויקת (לא מספריים) או לא רלוונטית ולכן נוותר עליהן מראש, למרות המתאמים הגבוהים שלהן"
   ]
  },
  {
   "cell_type": "markdown",
   "id": "476269b6-caf2-4fc6-81a3-cd4e2c354b65",
   "metadata": {},
   "source": [
    ".עמודות הצבע, עיר ואיזור בעיתיות מבחינת השלמת ערכים אך בעלות קורלציה יחסית גבוהה ולכן אבחר להכניס את הגבוהות ביותר מבניהן להמשך חקר הדאטה"
   ]
  },
  {
   "cell_type": "markdown",
   "id": "6cc0894b-dd33-4509-b699-71c25a3fc94f",
   "metadata": {},
   "source": [
    ":לכן בחרתי לחקור את העמודות הבאות"
   ]
  },
  {
   "cell_type": "markdown",
   "id": "3234977f-bd33-427d-a9e6-4ca689058bc3",
   "metadata": {},
   "source": [
    "manufactor, Year, model, Hand, Gear, capacity_Engine, Km, Supply_score, Color, City."
   ]
  },
  {
   "cell_type": "markdown",
   "id": "96bba072-66a9-4568-a394-3fc36c04d38d",
   "metadata": {},
   "source": [
    ".עמודות אלו נבחרו מאחר שהן נתפסות כמשפיעות ישירות על הערך והביצועים של הרכב, ולפיכך סביר להניח שהן ישפיעו באופן משמעותי על המחיר המבוקש לרכב"
   ]
  },
  {
   "cell_type": "code",
   "execution_count": 21,
   "id": "67e88c64-1a4d-4138-bc76-8b1daf71a223",
   "metadata": {},
   "outputs": [
    {
     "name": "stdout",
     "output_type": "stream",
     "text": [
      "<class 'pandas.core.frame.DataFrame'>\n",
      "RangeIndex: 1500 entries, 0 to 1499\n",
      "Data columns (total 10 columns):\n",
      " #   Column           Non-Null Count  Dtype  \n",
      "---  ------           --------------  -----  \n",
      " 0   Year             1500 non-null   int64  \n",
      " 1   Hand             1500 non-null   int64  \n",
      " 2   Gear             1499 non-null   object \n",
      " 3   capacity_Engine  1474 non-null   object \n",
      " 4   Km               1412 non-null   object \n",
      " 5   manufactor       1500 non-null   object \n",
      " 6   model            1500 non-null   object \n",
      " 7   Price            1500 non-null   float64\n",
      " 8   City             1500 non-null   object \n",
      " 9   Color            787 non-null    object \n",
      "dtypes: float64(1), int64(2), object(7)\n",
      "memory usage: 117.3+ KB\n"
     ]
    }
   ],
   "source": [
    "selected_columns = ['Year', 'Hand', 'Gear', 'capacity_Engine', 'Km', 'manufactor', 'model', 'Price', 'City', 'Color']\n",
    "df = data[selected_columns].copy()\n",
    "#print(df.dtypes) # חלק מהמשתנים לא בסוג המבוקש ממטלה 1 ולכן בהכנה של הדאטה נתקן זאת\n",
    "df.info() "
   ]
  },
  {
   "cell_type": "markdown",
   "id": "2e3a1c24-ecc4-4484-8fa5-33526566820a",
   "metadata": {},
   "source": [
    ":יש צורך בניקיון דאטה וטיפול בערכים חסרים "
   ]
  },
  {
   "cell_type": "markdown",
   "id": "5c04dcd4-0e3f-4c5b-b086-82d931baeb8b",
   "metadata": {},
   "source": [
    ".אבצע וידוא סוגי נתונים על פי המבוקש, זיהוי ערכים חריגים והמרתם ומילוי ערכים חסרים "
   ]
  },
  {
   "cell_type": "markdown",
   "id": "d115def8-135d-4889-b500-846a91155e35",
   "metadata": {},
   "source": [
    ".מילוי על פי הערך הנפוץ ביותר, מכיוון שיש רק ערך חסר אחד, מילוי לפי הערך הנפוץ ביותר ישמור על ההומוגניות של הנתונים -gear בעמודה"
   ]
  },
  {
   "cell_type": "markdown",
   "id": "399bcc84-78e5-46b9-a31a-c181b786eed1",
   "metadata": {},
   "source": [
    ".נשתמש בקיבוץ על פי יצרן ודגם ונמלא ערכים חסרים לפי חציון הקבוצה המתאימה -capacity_Engine בעמודה "
   ]
  },
  {
   "cell_type": "markdown",
   "id": "5614f400-2fb9-4708-8a81-16037d93f19b",
   "metadata": {},
   "source": [
    ".אם ערך הקיבוץ חסר נמלא לפי החציון הכללי, מכיוון שנפח מנוע הוא נתון מספרי ושימוש בחציון מפחית את השפעת ערכים קיצוניים"
   ]
  },
  {
   "cell_type": "markdown",
   "id": "24f66b3f-d4de-490d-af54-ff05846f1830",
   "metadata": {},
   "source": [
    ".מילוי על פי ממוצע הקילומטראז' לשנה בהתאם למספר השנים שהרכב על הכביש (אם נתון השנה חסר, נשלים עם חציון) -Km בעמודה"
   ]
  },
  {
   "cell_type": "markdown",
   "id": "bdbce471-63cd-4b4d-bc85-9a1d9c03a4eb",
   "metadata": {},
   "source": [
    ".בעמודות הצבע בחרתי להשלים על פי הערך הנפוץ ביותר מכיוון שהשלמה זו היא עמידה בפני השפעות חיצוניות ואינה דורשת מידע נוסף או הנחות על ההתפלגות של הנתונים"
   ]
  },
  {
   "cell_type": "markdown",
   "id": "10321d1f-dff5-4e09-82c9-26cdc516c0cc",
   "metadata": {},
   "source": [
    ".יש מעט מאוד נתונים לכן כל דרך שבה נבחר להשלים ערכים חסרים לא תביא ערכים מדויקים. נוותר על שימוש בעמודה זו עבור החיזוי -Supply_score בעמודה"
   ]
  },
  {
   "cell_type": "code",
   "execution_count": 37,
   "id": "7e3a46a9-d693-4513-a820-d974763778d1",
   "metadata": {},
   "outputs": [],
   "source": [
    "def prepare_data(df):\n",
    "    selected_columns = ['Year', 'Hand', 'Gear', 'capacity_Engine', 'Km', 'manufactor', 'model', 'City', 'Color', 'Price']\n",
    "    df = df[selected_columns].copy()\n",
    "    \n",
    "    # שינוי ערכים של \"None\" ל-NaN בכל העמודות\n",
    "    df.replace('None', np.nan, inplace=True)\n",
    "    \n",
    "    # המרת עמודות לסוגי נתונים מתאימים\n",
    "    df['Gear'] = df['Gear'].astype('category')\n",
    "    df['capacity_Engine'] = df['capacity_Engine'].astype(str).replace(['None', 'nan'], np.nan).str.replace(',', '').astype(float)\n",
    "    df['manufactor'] = df['manufactor'].astype('category')\n",
    "    df['model'] = df['model'].astype('category')\n",
    "    df['City'] = df['City'].astype('category')\n",
    "    df['Color'] = df['Color'].astype('category')\n",
    "    df['Km'] = df['Km'].astype(str).replace(['None', 'nan'], np.nan).str.replace(',', '').astype(float)\n",
    "\n",
    "    # מילוי ערכים חסרים \n",
    "    # Gear - מילוי לפי הערך הנפוץ ביותר\n",
    "    df['Gear'] = df['Gear'].fillna(df['Gear'].mode()[0])\n",
    "    # Color - מילוי לפי הערך הנפוץ ביותר\n",
    "    df['Color'] = df['Color'].fillna(df['Color'].mode()[0])\n",
    "    # capacity_Engine - מילוי לפי החציון\n",
    "    df['capacity_Engine'] = df['capacity_Engine'].fillna(df['capacity_Engine'].median())\n",
    "    # Km - מילוי לפי החציון\n",
    "    df['Km'] = df['Km'].fillna(df['Km'].median())\n",
    "\n",
    "    # ניקוי עמודת ה-model\n",
    "    def clean_model(row):\n",
    "        model = row['model']\n",
    "        manufactor = row['manufactor']\n",
    "        if manufactor in model:\n",
    "            model = model.replace(manufactor, '').strip()\n",
    "        if manufactor == 'Lexsus' and 'לקסוס' in model:\n",
    "            model = model.replace('לקסוס', '').strip()\n",
    "        # Remove year in parentheses from model if it appears\n",
    "        model = re.sub(r'\\(\\d{4}\\)', '', model).strip()\n",
    "        return model\n",
    "\n",
    "    df['model'] = df.apply(clean_model, axis=1)\n",
    "    \n",
    "    # חישוב הממוצעים עבור המשתנים הקטגוריאליים\n",
    "    categorical_features = ['manufactor', 'model', 'Gear', 'Color', 'City']\n",
    "    for feature in categorical_features:\n",
    "        means = df.groupby(feature)['Price'].mean()\n",
    "        df[f'{feature}_mean'] = df[feature].map(means)\n",
    "\n",
    "    # שמירה על המאפיינים הנבחרים בלבד\n",
    "    final_df = df[['manufactor', 'model', 'Gear', 'City', 'Color'] +\n",
    "                  [f'{feature}_mean' for feature in categorical_features] +\n",
    "                  ['Year', 'Hand', 'Km', 'capacity_Engine', 'Price']]\n",
    "\n",
    "    return final_df"
   ]
  },
  {
   "cell_type": "markdown",
   "id": "fbb3a0d5-994d-4863-8439-af212a74b979",
   "metadata": {},
   "source": [
    ".המרת ערכים קטגוריאליים לערכים מספריים מבוססי ממוצע תעזור למודל להבין את המשמעות של הקטגוריות השונות ולתפוס את ההשפעה שלהן על מחיר הרכב"
   ]
  },
  {
   "cell_type": "code",
   "execution_count": 38,
   "id": "616035c1-00ef-47b5-8199-bdf502d4ebe0",
   "metadata": {},
   "outputs": [
    {
     "data": {
      "text/html": [
       "<div>\n",
       "<style scoped>\n",
       "    .dataframe tbody tr th:only-of-type {\n",
       "        vertical-align: middle;\n",
       "    }\n",
       "\n",
       "    .dataframe tbody tr th {\n",
       "        vertical-align: top;\n",
       "    }\n",
       "\n",
       "    .dataframe thead th {\n",
       "        text-align: right;\n",
       "    }\n",
       "</style>\n",
       "<table border=\"1\" class=\"dataframe\">\n",
       "  <thead>\n",
       "    <tr style=\"text-align: right;\">\n",
       "      <th></th>\n",
       "      <th>manufactor</th>\n",
       "      <th>model</th>\n",
       "      <th>Gear</th>\n",
       "      <th>City</th>\n",
       "      <th>Color</th>\n",
       "      <th>manufactor_mean</th>\n",
       "      <th>model_mean</th>\n",
       "      <th>Gear_mean</th>\n",
       "      <th>Color_mean</th>\n",
       "      <th>City_mean</th>\n",
       "      <th>Year</th>\n",
       "      <th>Hand</th>\n",
       "      <th>Km</th>\n",
       "      <th>capacity_Engine</th>\n",
       "      <th>Price</th>\n",
       "    </tr>\n",
       "  </thead>\n",
       "  <tbody>\n",
       "    <tr>\n",
       "      <th>0</th>\n",
       "      <td>יונדאי</td>\n",
       "      <td>i35</td>\n",
       "      <td>אוטומטית</td>\n",
       "      <td>רעננה</td>\n",
       "      <td>כחול כהה מטאלי</td>\n",
       "      <td>60003.037037</td>\n",
       "      <td>44000.000000</td>\n",
       "      <td>52323.998511</td>\n",
       "      <td>53391.304348</td>\n",
       "      <td>48794.117647</td>\n",
       "      <td>2015</td>\n",
       "      <td>2</td>\n",
       "      <td>144000.0</td>\n",
       "      <td>1600.0</td>\n",
       "      <td>51000.0</td>\n",
       "    </tr>\n",
       "    <tr>\n",
       "      <th>1</th>\n",
       "      <td>ניסאן</td>\n",
       "      <td>מיקרה</td>\n",
       "      <td>אוטומטית</td>\n",
       "      <td>אבן יהודה</td>\n",
       "      <td>כחול בהיר</td>\n",
       "      <td>47581.250000</td>\n",
       "      <td>42076.923077</td>\n",
       "      <td>52323.998511</td>\n",
       "      <td>39000.000000</td>\n",
       "      <td>63800.000000</td>\n",
       "      <td>2018</td>\n",
       "      <td>1</td>\n",
       "      <td>69000.0</td>\n",
       "      <td>1200.0</td>\n",
       "      <td>49000.0</td>\n",
       "    </tr>\n",
       "    <tr>\n",
       "      <th>2</th>\n",
       "      <td>סוזוקי</td>\n",
       "      <td>סוויפט</td>\n",
       "      <td>אוטומטית</td>\n",
       "      <td>רמת</td>\n",
       "      <td>לבן</td>\n",
       "      <td>49667.692308</td>\n",
       "      <td>37090.909091</td>\n",
       "      <td>52323.998511</td>\n",
       "      <td>52309.224009</td>\n",
       "      <td>40875.000000</td>\n",
       "      <td>2010</td>\n",
       "      <td>1</td>\n",
       "      <td>145000.0</td>\n",
       "      <td>1450.0</td>\n",
       "      <td>22500.0</td>\n",
       "    </tr>\n",
       "    <tr>\n",
       "      <th>3</th>\n",
       "      <td>טויוטה</td>\n",
       "      <td>אוריס</td>\n",
       "      <td>טיפטרוניק</td>\n",
       "      <td>רחובות</td>\n",
       "      <td>אפור מטאלי</td>\n",
       "      <td>66201.031250</td>\n",
       "      <td>62350.000000</td>\n",
       "      <td>47455.555556</td>\n",
       "      <td>50010.945205</td>\n",
       "      <td>44877.142857</td>\n",
       "      <td>2016</td>\n",
       "      <td>1</td>\n",
       "      <td>27300.0</td>\n",
       "      <td>1600.0</td>\n",
       "      <td>63000.0</td>\n",
       "    </tr>\n",
       "    <tr>\n",
       "      <th>4</th>\n",
       "      <td>קיה</td>\n",
       "      <td>פיקנטו</td>\n",
       "      <td>אוטומטית</td>\n",
       "      <td>ראשון לציון</td>\n",
       "      <td>לבן</td>\n",
       "      <td>52316.880240</td>\n",
       "      <td>50870.384615</td>\n",
       "      <td>52323.998511</td>\n",
       "      <td>52309.224009</td>\n",
       "      <td>53207.315789</td>\n",
       "      <td>2012</td>\n",
       "      <td>1</td>\n",
       "      <td>70000.0</td>\n",
       "      <td>1248.0</td>\n",
       "      <td>37000.0</td>\n",
       "    </tr>\n",
       "    <tr>\n",
       "      <th>...</th>\n",
       "      <td>...</td>\n",
       "      <td>...</td>\n",
       "      <td>...</td>\n",
       "      <td>...</td>\n",
       "      <td>...</td>\n",
       "      <td>...</td>\n",
       "      <td>...</td>\n",
       "      <td>...</td>\n",
       "      <td>...</td>\n",
       "      <td>...</td>\n",
       "      <td>...</td>\n",
       "      <td>...</td>\n",
       "      <td>...</td>\n",
       "      <td>...</td>\n",
       "      <td>...</td>\n",
       "    </tr>\n",
       "    <tr>\n",
       "      <th>1495</th>\n",
       "      <td>סקודה</td>\n",
       "      <td>אוקטביה</td>\n",
       "      <td>אוטומטית</td>\n",
       "      <td>כפר קאסם</td>\n",
       "      <td>לבן</td>\n",
       "      <td>48529.908333</td>\n",
       "      <td>53353.333333</td>\n",
       "      <td>52323.998511</td>\n",
       "      <td>52309.224009</td>\n",
       "      <td>60000.000000</td>\n",
       "      <td>2016</td>\n",
       "      <td>2</td>\n",
       "      <td>180.0</td>\n",
       "      <td>1400.0</td>\n",
       "      <td>60000.0</td>\n",
       "    </tr>\n",
       "    <tr>\n",
       "      <th>1496</th>\n",
       "      <td>אלפא רומיאו</td>\n",
       "      <td>ג'ולייטה</td>\n",
       "      <td>ידנית</td>\n",
       "      <td>חיפה</td>\n",
       "      <td>לבן</td>\n",
       "      <td>48374.875000</td>\n",
       "      <td>60200.000000</td>\n",
       "      <td>38484.797468</td>\n",
       "      <td>52309.224009</td>\n",
       "      <td>57867.346939</td>\n",
       "      <td>2013</td>\n",
       "      <td>4</td>\n",
       "      <td>160000.0</td>\n",
       "      <td>1400.0</td>\n",
       "      <td>45000.0</td>\n",
       "    </tr>\n",
       "    <tr>\n",
       "      <th>1497</th>\n",
       "      <td>סקודה</td>\n",
       "      <td>ראפיד</td>\n",
       "      <td>אוטומטית</td>\n",
       "      <td>כפר מנדא</td>\n",
       "      <td>לבן</td>\n",
       "      <td>48529.908333</td>\n",
       "      <td>39000.000000</td>\n",
       "      <td>52323.998511</td>\n",
       "      <td>52309.224009</td>\n",
       "      <td>48333.333333</td>\n",
       "      <td>2014</td>\n",
       "      <td>1</td>\n",
       "      <td>123000.0</td>\n",
       "      <td>1400.0</td>\n",
       "      <td>30000.0</td>\n",
       "    </tr>\n",
       "    <tr>\n",
       "      <th>1498</th>\n",
       "      <td>ניסאן</td>\n",
       "      <td>ג'וק JUKE</td>\n",
       "      <td>אוטומטית</td>\n",
       "      <td>אשדוד</td>\n",
       "      <td>אפור מטאלי</td>\n",
       "      <td>47581.250000</td>\n",
       "      <td>44875.000000</td>\n",
       "      <td>52323.998511</td>\n",
       "      <td>50010.945205</td>\n",
       "      <td>58800.000000</td>\n",
       "      <td>2011</td>\n",
       "      <td>3</td>\n",
       "      <td>118000.0</td>\n",
       "      <td>1600.0</td>\n",
       "      <td>28000.0</td>\n",
       "    </tr>\n",
       "    <tr>\n",
       "      <th>1499</th>\n",
       "      <td>הונדה</td>\n",
       "      <td>CIVIC</td>\n",
       "      <td>אוטומטית</td>\n",
       "      <td>נהריה</td>\n",
       "      <td>לבן</td>\n",
       "      <td>47293.277311</td>\n",
       "      <td>53690.322581</td>\n",
       "      <td>52323.998511</td>\n",
       "      <td>52309.224009</td>\n",
       "      <td>52033.333333</td>\n",
       "      <td>2015</td>\n",
       "      <td>3</td>\n",
       "      <td>163899.0</td>\n",
       "      <td>1798.0</td>\n",
       "      <td>41500.0</td>\n",
       "    </tr>\n",
       "  </tbody>\n",
       "</table>\n",
       "<p>1500 rows × 15 columns</p>\n",
       "</div>"
      ],
      "text/plain": [
       "       manufactor      model       Gear         City           Color  \\\n",
       "0          יונדאי        i35   אוטומטית        רעננה  כחול כהה מטאלי   \n",
       "1           ניסאן      מיקרה   אוטומטית    אבן יהודה       כחול בהיר   \n",
       "2          סוזוקי     סוויפט   אוטומטית          רמת             לבן   \n",
       "3          טויוטה      אוריס  טיפטרוניק       רחובות      אפור מטאלי   \n",
       "4             קיה     פיקנטו   אוטומטית  ראשון לציון             לבן   \n",
       "...           ...        ...        ...          ...             ...   \n",
       "1495        סקודה    אוקטביה   אוטומטית     כפר קאסם             לבן   \n",
       "1496  אלפא רומיאו   ג'ולייטה      ידנית         חיפה             לבן   \n",
       "1497        סקודה      ראפיד   אוטומטית     כפר מנדא             לבן   \n",
       "1498        ניסאן  ג'וק JUKE   אוטומטית        אשדוד      אפור מטאלי   \n",
       "1499        הונדה      CIVIC   אוטומטית        נהריה             לבן   \n",
       "\n",
       "     manufactor_mean    model_mean     Gear_mean    Color_mean     City_mean  \\\n",
       "0       60003.037037  44000.000000  52323.998511  53391.304348  48794.117647   \n",
       "1       47581.250000  42076.923077  52323.998511  39000.000000  63800.000000   \n",
       "2       49667.692308  37090.909091  52323.998511  52309.224009  40875.000000   \n",
       "3       66201.031250  62350.000000  47455.555556  50010.945205  44877.142857   \n",
       "4       52316.880240  50870.384615  52323.998511  52309.224009  53207.315789   \n",
       "...              ...           ...           ...           ...           ...   \n",
       "1495    48529.908333  53353.333333  52323.998511  52309.224009  60000.000000   \n",
       "1496    48374.875000  60200.000000  38484.797468  52309.224009  57867.346939   \n",
       "1497    48529.908333  39000.000000  52323.998511  52309.224009  48333.333333   \n",
       "1498    47581.250000  44875.000000  52323.998511  50010.945205  58800.000000   \n",
       "1499    47293.277311  53690.322581  52323.998511  52309.224009  52033.333333   \n",
       "\n",
       "      Year  Hand        Km  capacity_Engine    Price  \n",
       "0     2015     2  144000.0           1600.0  51000.0  \n",
       "1     2018     1   69000.0           1200.0  49000.0  \n",
       "2     2010     1  145000.0           1450.0  22500.0  \n",
       "3     2016     1   27300.0           1600.0  63000.0  \n",
       "4     2012     1   70000.0           1248.0  37000.0  \n",
       "...    ...   ...       ...              ...      ...  \n",
       "1495  2016     2     180.0           1400.0  60000.0  \n",
       "1496  2013     4  160000.0           1400.0  45000.0  \n",
       "1497  2014     1  123000.0           1400.0  30000.0  \n",
       "1498  2011     3  118000.0           1600.0  28000.0  \n",
       "1499  2015     3  163899.0           1798.0  41500.0  \n",
       "\n",
       "[1500 rows x 15 columns]"
      ]
     },
     "metadata": {},
     "output_type": "display_data"
    }
   ],
   "source": [
    "# הפעלת הפונקציה כדי לקבל את הדאטה פריים הנקי\n",
    "df_prepared = prepare_data(df)\n",
    "display(df_prepared)"
   ]
  },
  {
   "cell_type": "code",
   "execution_count": 39,
   "id": "32f3081a-b090-4460-a301-5cf90a94fa21",
   "metadata": {},
   "outputs": [
    {
     "name": "stdout",
     "output_type": "stream",
     "text": [
      "<class 'pandas.core.frame.DataFrame'>\n",
      "RangeIndex: 1500 entries, 0 to 1499\n",
      "Data columns (total 15 columns):\n",
      " #   Column           Non-Null Count  Dtype   \n",
      "---  ------           --------------  -----   \n",
      " 0   manufactor       1500 non-null   category\n",
      " 1   model            1500 non-null   object  \n",
      " 2   Gear             1500 non-null   category\n",
      " 3   City             1500 non-null   category\n",
      " 4   Color            1500 non-null   category\n",
      " 5   manufactor_mean  1500 non-null   category\n",
      " 6   model_mean       1500 non-null   float64 \n",
      " 7   Gear_mean        1500 non-null   category\n",
      " 8   Color_mean       1500 non-null   float64 \n",
      " 9   City_mean        1500 non-null   float64 \n",
      " 10  Year             1500 non-null   int64   \n",
      " 11  Hand             1500 non-null   int64   \n",
      " 12  Km               1500 non-null   float64 \n",
      " 13  capacity_Engine  1500 non-null   float64 \n",
      " 14  Price            1500 non-null   float64 \n",
      "dtypes: category(6), float64(6), int64(2), object(1)\n",
      "memory usage: 130.4+ KB\n",
      "None\n"
     ]
    }
   ],
   "source": [
    "# בדיקת ערכים חסרים ב- הדאטה פריים המעובד\n",
    "print(df_prepared.info())"
   ]
  },
  {
   "cell_type": "markdown",
   "id": "95858cb0-bd0c-4113-ace5-335f2c360468",
   "metadata": {},
   "source": [
    ".אכן טיפלנו בכל הערכים החסרים"
   ]
  },
  {
   "cell_type": "markdown",
   "id": "cd3909f2-5ca8-498e-9cc7-a04edaf1f531",
   "metadata": {},
   "source": [
    ".כעת נחלק את הדאטה ל2 סטים לפני העיבוד על מנת להבטיח את עצמאות סט הבדיקה ולתת הערכה אמיתית יותר של ביצועי המודל"
   ]
  },
  {
   "cell_type": "markdown",
   "id": "82c34922-4a75-4705-a44c-a08328b341fc",
   "metadata": {},
   "source": [
    ".מטרתנו היא לבדוק את ביצועי המודל באופן אמיתי ככל הניתן, לכן נשתמש בחלוקה לפני העיבוד - כך נוודא שהמודל לא נחשף לאינפורמציה מיותרת בזמן האימון"
   ]
  },
  {
   "cell_type": "code",
   "execution_count": 40,
   "id": "0c4c3407-0b6a-4c06-a79c-fb5f393ec2fd",
   "metadata": {},
   "outputs": [],
   "source": [
    "# חלוקת לסט אימון וסט בדיקה לפני עיבודם באמצעות הפונקציה שיצרנו \n",
    "train_df, test_df, y_train, y_test = train_test_split(df, df['Price'], test_size=0.2, random_state=42)\n",
    "\n",
    "# הכנת הנתונים באמצעות הפונקציה prepare_data\n",
    "df_prepared_train = prepare_data(train_df)\n",
    "df_prepared_test = prepare_data(test_df)\n",
    "\n",
    "# הכנת הנתונים לאימון המודל\n",
    "X_train_prepared = df_prepared_train.drop(columns=['Price', 'manufactor', 'model', 'Gear', 'City', 'Color'])\n",
    "y_train_prepared = df_prepared_train['Price']\n",
    "X_test_prepared = df_prepared_test.drop(columns=['Price', 'manufactor', 'model', 'Gear', 'City', 'Color'])\n",
    "y_test_prepared = df_prepared_test['Price']"
   ]
  },
  {
   "cell_type": "markdown",
   "id": "8e3a2388-d7f7-4bc9-9b08-5b7bc9f07da3",
   "metadata": {},
   "source": [
    "-ביצוע חלוקת הנתונים, חיפוש פרמטרים עבור האלסטיק נט ומציאת 5 המאפיינים בעלי המשקל הגבוה ביותר לחיזוי המחיר"
   ]
  },
  {
   "cell_type": "markdown",
   "id": "3022da0e-a3be-457e-82b3-c117d2da5cd5",
   "metadata": {},
   "source": [
    ".נעריך את ביצועי המודל על ידי חלוקה חוזרת ונשנית של הנתונים לסטי אימון ובדיקה- באמצעות קרוס ולידציה"
   ]
  },
  {
   "cell_type": "code",
   "execution_count": 46,
   "id": "0623cb22-5fd3-4b01-80ed-a24d1cbefab7",
   "metadata": {},
   "outputs": [
    {
     "name": "stdout",
     "output_type": "stream",
     "text": [
      "Best parameters found:  {'alpha': 1.0, 'l1_ratio': 0.2}\n",
      "Top 5 features with their importance:\n",
      "Year               1568.848971\n",
      "Hand               -106.505258\n",
      "capacity_Engine       1.740971\n",
      "model_mean            0.723183\n",
      "Color_mean            0.532456\n",
      "dtype: float64\n"
     ]
    },
    {
     "data": {
      "text/html": [
       "<div>\n",
       "<style scoped>\n",
       "    .dataframe tbody tr th:only-of-type {\n",
       "        vertical-align: middle;\n",
       "    }\n",
       "\n",
       "    .dataframe tbody tr th {\n",
       "        vertical-align: top;\n",
       "    }\n",
       "\n",
       "    .dataframe thead th {\n",
       "        text-align: right;\n",
       "    }\n",
       "</style>\n",
       "<table border=\"1\" class=\"dataframe\">\n",
       "  <thead>\n",
       "    <tr style=\"text-align: right;\">\n",
       "      <th></th>\n",
       "      <th>Year</th>\n",
       "      <th>Hand</th>\n",
       "      <th>capacity_Engine</th>\n",
       "      <th>model_mean</th>\n",
       "      <th>Color_mean</th>\n",
       "      <th>Price</th>\n",
       "    </tr>\n",
       "  </thead>\n",
       "  <tbody>\n",
       "    <tr>\n",
       "      <th>1116</th>\n",
       "      <td>2018</td>\n",
       "      <td>1</td>\n",
       "      <td>1248.0</td>\n",
       "      <td>52960.000000</td>\n",
       "      <td>52993.979058</td>\n",
       "      <td>67000.0</td>\n",
       "    </tr>\n",
       "    <tr>\n",
       "      <th>1368</th>\n",
       "      <td>2014</td>\n",
       "      <td>1</td>\n",
       "      <td>1200.0</td>\n",
       "      <td>24000.000000</td>\n",
       "      <td>52993.979058</td>\n",
       "      <td>23000.0</td>\n",
       "    </tr>\n",
       "    <tr>\n",
       "      <th>422</th>\n",
       "      <td>2016</td>\n",
       "      <td>1</td>\n",
       "      <td>1600.0</td>\n",
       "      <td>58900.000000</td>\n",
       "      <td>52993.979058</td>\n",
       "      <td>69500.0</td>\n",
       "    </tr>\n",
       "    <tr>\n",
       "      <th>413</th>\n",
       "      <td>2018</td>\n",
       "      <td>2</td>\n",
       "      <td>1600.0</td>\n",
       "      <td>63100.000000</td>\n",
       "      <td>52993.979058</td>\n",
       "      <td>72000.0</td>\n",
       "    </tr>\n",
       "    <tr>\n",
       "      <th>451</th>\n",
       "      <td>2014</td>\n",
       "      <td>2</td>\n",
       "      <td>1500.0</td>\n",
       "      <td>65333.333333</td>\n",
       "      <td>52993.979058</td>\n",
       "      <td>69000.0</td>\n",
       "    </tr>\n",
       "    <tr>\n",
       "      <th>...</th>\n",
       "      <td>...</td>\n",
       "      <td>...</td>\n",
       "      <td>...</td>\n",
       "      <td>...</td>\n",
       "      <td>...</td>\n",
       "      <td>...</td>\n",
       "    </tr>\n",
       "    <tr>\n",
       "      <th>983</th>\n",
       "      <td>2013</td>\n",
       "      <td>4</td>\n",
       "      <td>2000.0</td>\n",
       "      <td>33000.000000</td>\n",
       "      <td>39583.333333</td>\n",
       "      <td>33000.0</td>\n",
       "    </tr>\n",
       "    <tr>\n",
       "      <th>799</th>\n",
       "      <td>2014</td>\n",
       "      <td>3</td>\n",
       "      <td>1500.0</td>\n",
       "      <td>47033.266667</td>\n",
       "      <td>53250.000000</td>\n",
       "      <td>45000.0</td>\n",
       "    </tr>\n",
       "    <tr>\n",
       "      <th>1265</th>\n",
       "      <td>2009</td>\n",
       "      <td>2</td>\n",
       "      <td>1468.0</td>\n",
       "      <td>34000.000000</td>\n",
       "      <td>52993.979058</td>\n",
       "      <td>22000.0</td>\n",
       "    </tr>\n",
       "    <tr>\n",
       "      <th>1150</th>\n",
       "      <td>2013</td>\n",
       "      <td>4</td>\n",
       "      <td>1250.0</td>\n",
       "      <td>52960.000000</td>\n",
       "      <td>52993.979058</td>\n",
       "      <td>34000.0</td>\n",
       "    </tr>\n",
       "    <tr>\n",
       "      <th>824</th>\n",
       "      <td>2008</td>\n",
       "      <td>3</td>\n",
       "      <td>1500.0</td>\n",
       "      <td>65333.333333</td>\n",
       "      <td>52993.979058</td>\n",
       "      <td>32000.0</td>\n",
       "    </tr>\n",
       "  </tbody>\n",
       "</table>\n",
       "<p>300 rows × 6 columns</p>\n",
       "</div>"
      ],
      "text/plain": [
       "      Year  Hand  capacity_Engine    model_mean    Color_mean    Price\n",
       "1116  2018     1           1248.0  52960.000000  52993.979058  67000.0\n",
       "1368  2014     1           1200.0  24000.000000  52993.979058  23000.0\n",
       "422   2016     1           1600.0  58900.000000  52993.979058  69500.0\n",
       "413   2018     2           1600.0  63100.000000  52993.979058  72000.0\n",
       "451   2014     2           1500.0  65333.333333  52993.979058  69000.0\n",
       "...    ...   ...              ...           ...           ...      ...\n",
       "983   2013     4           2000.0  33000.000000  39583.333333  33000.0\n",
       "799   2014     3           1500.0  47033.266667  53250.000000  45000.0\n",
       "1265  2009     2           1468.0  34000.000000  52993.979058  22000.0\n",
       "1150  2013     4           1250.0  52960.000000  52993.979058  34000.0\n",
       "824   2008     3           1500.0  65333.333333  52993.979058  32000.0\n",
       "\n",
       "[300 rows x 6 columns]"
      ]
     },
     "metadata": {},
     "output_type": "display_data"
    }
   ],
   "source": [
    "# הגדרת המודל והפרמטרים לחיפוש\n",
    "elastic_net = ElasticNet()\n",
    "param_grid = {'alpha': [0.1, 1.0, 10.0], 'l1_ratio': [0.2, 0.5, 0.8]}\n",
    "grid_search = GridSearchCV(elastic_net, param_grid, cv=10, scoring='neg_mean_squared_error')\n",
    "grid_search.fit(X_train_prepared, y_train_prepared)\n",
    "\n",
    "# המודל הטוב ביותר\n",
    "best_model = grid_search.best_estimator_\n",
    "print(\"Best parameters found: \", grid_search.best_params_)\n",
    "\n",
    "# חיזוי על סט הבדיקה\n",
    "y_pred = best_model.predict(X_test_prepared)\n",
    "\n",
    "# חמשת המאפיינים עם המשקלות הגבוהים ביותר (חיובי ושלילי)\n",
    "feature_importance = pd.Series(best_model.coef_, index=X_train_prepared.columns)\n",
    "top_features = feature_importance.abs().sort_values(ascending=False).head(5).index\n",
    "top_features_importance = feature_importance[top_features]\n",
    "\n",
    "print(\"Top 5 features with their importance:\")\n",
    "print(top_features_importance)\n",
    "\n",
    "# הצגת הדאטה פריים עם חמשת המאפיינים הנבחרים והמחיר\n",
    "final_df = X_test_prepared[top_features.tolist()].copy()\n",
    "final_df.loc[:, 'Price'] = y_test_prepared.values\n",
    "display(final_df)"
   ]
  },
  {
   "cell_type": "markdown",
   "id": "2f958dd2-83fd-4915-85d0-9ef9b9abe06c",
   "metadata": {},
   "source": [
    ":מצאנו ש5 הפיצ׳רים הטובים ביותר לחיזוי המחיר הם"
   ]
  },
  {
   "cell_type": "markdown",
   "id": "a4c05370-6cbc-49df-b1ed-5a2f19721969",
   "metadata": {},
   "source": [
    "Year, Hand, capacity_Engine, model, Color."
   ]
  },
  {
   "cell_type": "markdown",
   "id": "9c696184-973f-4155-8d92-54dfbeb56d5a",
   "metadata": {},
   "source": [
    ".המאפיינים מבוססי ממוצע מייצגים את הממוצע של מחירי הרכב עבור הדגמים והצבעים השונים כך שהמודל השתמש במידע זה כדי לחזות מחירים בצורה מדויקת יותר"
   ]
  },
  {
   "cell_type": "markdown",
   "id": "ea286421-7c50-4ac8-86d5-4d1e79da56e4",
   "metadata": {},
   "source": [
    ".כל המאפיינים עם משקל חיובי, חוץ מעמודת היד שעם משקל שלילי "
   ]
  },
  {
   "cell_type": "markdown",
   "id": "c6220033-489f-4ef4-9603-8d88fced99eb",
   "metadata": {},
   "source": [
    ".במקרים רבים, מאפיינים עם קורלציות שליליות יכולים להיות חשובים מאוד בהבנת הגורמים המשפיעים על המחיר ובבניית מודל חיזוי מדויק"
   ]
  },
  {
   "cell_type": "markdown",
   "id": "9d86e6fd-5150-4619-a3a7-2e91892c83e8",
   "metadata": {},
   "source": [
    ".ולכן נכלול את המאפיינים בעלי הערכים האבסולוטיים הגבוהים ביותר"
   ]
  },
  {
   "cell_type": "code",
   "execution_count": 47,
   "id": "27ed1e27-202a-4d77-990c-48bffb606bdf",
   "metadata": {},
   "outputs": [
    {
     "name": "stdout",
     "output_type": "stream",
     "text": [
      "RMSE: 10480.454498077275\n",
      "Cross-Validation RMSE: 12679.914758998912\n"
     ]
    }
   ],
   "source": [
    "# חישוב RMSE\n",
    "rmse = np.sqrt(mean_squared_error(y_test_prepared, y_pred))\n",
    "print(f\"RMSE: {rmse}\")\n",
    "\n",
    "# ביצוע קרוס ולידציה\n",
    "cross_val_rmse = -cross_val_score(best_model, X_train_prepared, y_train_prepared, cv=10, scoring='neg_mean_squared_error')\n",
    "cross_val_rmse_mean = np.sqrt(cross_val_rmse.mean())\n",
    "print(f\"Cross-Validation RMSE: {cross_val_rmse_mean}\")"
   ]
  },
  {
   "cell_type": "markdown",
   "id": "483984b8-560d-4e0e-affa-232450a309c4",
   "metadata": {},
   "source": [
    ".הקרבה בין מדדים אלה מצביעה על ביצועים עקביים בחלוקות שונות של הנתונים, מה שמרמז על כך שהמודל מתפקד היטב גם על נתונים שלא נראו במהלך האימון"
   ]
  },
  {
   "cell_type": "markdown",
   "id": "a4799aff-c104-49cd-8a06-77b715ea6820",
   "metadata": {},
   "source": [
    ".ערכים אלו הם בטווח מקובל, מה שמעיד על כך שהמודל יכול לחזות מחירי רכבים בצורה אמינה על בסיס המאפיינים שניתנו"
   ]
  }
 ],
 "metadata": {
  "kernelspec": {
   "display_name": "Python 3 (ipykernel)",
   "language": "python",
   "name": "python3"
  },
  "language_info": {
   "codemirror_mode": {
    "name": "ipython",
    "version": 3
   },
   "file_extension": ".py",
   "mimetype": "text/x-python",
   "name": "python",
   "nbconvert_exporter": "python",
   "pygments_lexer": "ipython3",
   "version": "3.10.2"
  }
 },
 "nbformat": 4,
 "nbformat_minor": 5
}
